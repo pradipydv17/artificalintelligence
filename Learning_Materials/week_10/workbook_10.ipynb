{
 "cells": [
  {
   "cell_type": "markdown",
   "metadata": {},
   "source": [
    "# AIML Portfolio Self-check\n",
    "\n",
    "## TO USE THIS NOTEBOOK RUN EACH CELL ONE BY ONE\n",
    "### If you get errors (red boxes appear) fix them before you move on.\n",
    "\n",
    "<div class=\"alert alert-block alert-danger\"> <b>REMEMBER:</b> You need to make sure you are running this code within the virtual environment you created using 'AIenv'.<br> In Jupyter click on the kernel menu then change-kernel. In VSCode use the kernel selector in the top-right hand corner </div>"
   ]
  },
  {
   "cell_type": "markdown",
   "metadata": {},
   "source": [
    "### 1: Develop your aiml code in the next cell\n",
    "### and run the cell to write it to file"
   ]
  },
  {
   "cell_type": "code",
   "execution_count": 7,
   "metadata": {
    "tags": []
   },
   "outputs": [
    {
     "name": "stdout",
     "output_type": "stream",
     "text": [
      "Overwriting student.aiml\n"
     ]
    }
   ],
   "source": [
    "%%writefile \"student.aiml\"\n",
    "<aiml>\n",
    "  <!-- This is the main AIML file that defines how the chatbot responds to user inputs -->\n",
    "\n",
    "  <!-- Core definitions: Handles \"WHAT IS\" questions for different concepts -->\n",
    "  <category>\n",
    "    <pattern>WHAT IS *</pattern> <!-- Matches any \"WHAT IS something\" question -->\n",
    "    <template>\n",
    "      <think><set name=\"concept\"><lowercase><star/></lowercase></set></think> <!-- Converts input to lowercase and stores it in 'concept' variable -->\n",
    "      <condition name=\"concept\"> <!-- Checks the value of 'concept' and gives the right response -->\n",
    "        <li value=\"long-term knowledge\">Long-term knowledge is valid over a period of time.</li> <!-- Defines long-term knowledge -->\n",
    "        <li value=\"short-term knowledge\">Short-term knowledge is only valid for a particular situation or run of a programme.</li> <!-- Defines short-term knowledge -->\n",
    "        <li value=\"generic knowledge\">Generic knowledge is relevant to more than one application or domain.</li> <!-- Defines generic knowledge -->\n",
    "        <li value=\"domain-specific knowledge\">Domain-specific knowledge is only applicable to one specific application or domain.</li> <!-- Defines domain-specific knowledge -->\n",
    "        <li value=\"a fact\">A fact is a statement which asserts that a relationship holds for an object-subject pair.</li> <!-- Defines a fact -->\n",
    "        <li value=\"a rule\">A rule is a statement that generates new knowledge by asserting that if one fact is true, then another is also true.</li> <!-- Defines a rule -->\n",
    "        <li value=\"a rule mybot\"><srai>WHAT IS a rule</srai></li> <!-- Redirects \"a rule mybot\" to the rule definition -->\n",
    "        <li value=\"the way that aiml allows variables in its long-term knowledge\">AIML has wildcards and srai for that purpose.</li> <!-- Explains AIML variable handling -->\n",
    "        <li value=\"the way aiml supports context during a conversation\">AIML supports context through the use of the that tag to refer to previous bot answers, and via setting variables such as topic.</li> <!-- Explains AIML context support -->\n",
    "      </condition>\n",
    "    </template>\n",
    "  </category>\n",
    "\n",
    "  <!-- Examples: Handles \"GIVE ME AN EXAMPLE OF\" questions -->\n",
    "  <category>\n",
    "    <pattern>GIVE ME AN EXAMPLE OF *</pattern> <!-- Matches any \"GIVE ME AN EXAMPLE OF something\" question -->\n",
    "    <template>\n",
    "      <think><set name=\"example\"><lowercase><star/></lowercase></set></think> <!-- Stores the input in 'example' variable in lowercase -->\n",
    "      <condition name=\"example\"> <!-- Checks 'example' value and returns the appropriate example -->\n",
    "        <li value=\"long-term generic knowledge\">Generative AI frequently hallucinates and produces incorrect results.</li> <!-- Example for long-term generic knowledge -->\n",
    "        <li value=\"long-term domain-specific knowledge\">The formal specification of a particular machine learning algorithm.</li> <!-- Example for long-term domain-specific knowledge -->\n",
    "        <li value=\"short-term generic knowledge\">The date today is an example as it may be useful in different contexts but only lasts 24 hours.</li> <!-- Example for short-term generic knowledge -->\n",
    "        <li value=\"short-term domain-specific knowledge\">The deadline for the submission of this portfolio.</li> <!-- Example for short-term domain-specific knowledge -->\n",
    "        <li value=\"a fact\">Submissions for this module are run through automatic and effective plagiarism checks.</li> <!-- Example for a fact -->\n",
    "        <li value=\"a rule\">If submitsOthersWork(X) then commitsAssessmentOffence(X).</li> <!-- Example for a rule -->\n",
    "      </condition>\n",
    "    </template>\n",
    "  </category>\n",
    "\n",
    "  <!-- Context-sensitive questions: Answers \"WHY IS KNOWING THAT USEFUL\" based on previous bot response -->\n",
    "  <category>\n",
    "    <pattern>WHY IS KNOWING THAT USEFUL</pattern> <!-- Matches \"WHY IS KNOWING THAT USEFUL\" -->\n",
    "    <that>SUBMISSIONS FOR THIS MODULE ARE RUN THROUGH AUTOMATIC AND EFFECTIVE PLAGIARISM CHECKS</that> <!-- Only triggers if the bot's last response was about plagiarism checks -->\n",
    "    <template>To remind you that we take assessment offences very seriously.</template> <!-- Explains why the fact is useful -->\n",
    "  </category>\n",
    "\n",
    "  <category>\n",
    "    <pattern>WHY IS KNOWING THAT USEFUL</pattern> <!-- Matches \"WHY IS KNOWING THAT USEFUL\" -->\n",
    "    <that>AIML HAS WILDCARDS AND SRAI FOR THAT PURPOSE</that> <!-- Triggers if last response was about AIML wildcards -->\n",
    "    <template>Because it allows us to make statements that apply to classes of things or questions.</template> <!-- Explains why wildcards are useful -->\n",
    "  </category>\n",
    "\n",
    "  <category>\n",
    "    <pattern>WHY IS KNOWING THAT USEFUL</pattern> <!-- Matches \"WHY IS KNOWING THAT USEFUL\" -->\n",
    "    <that>AIML SUPPORTS CONTEXT THROUGH THE USE OF THE THAT TAG TO REFER TO PREVIOUS BOT ANSWERS AND VIA SETTING VARIABLES SUCH AS TOPIC</that> <!-- Triggers if last response was about AIML context -->\n",
    "    <template>Because some words like that and it can only be understood in the context of previous sentences.</template> <!-- Explains why context support is useful -->\n",
    "  </category>\n",
    "\n",
    "  <!-- Definition redirects: Redirects alternative phrasings to \"WHAT IS\" -->\n",
    "  <category>\n",
    "    <pattern>GIVE ME A DEFINITION OF *</pattern> <!-- Matches \"GIVE ME A DEFINITION OF something\" -->\n",
    "    <template><srai>WHAT IS <star/></srai></template> <!-- Redirects to \"WHAT IS\" pattern -->\n",
    "  </category>\n",
    "\n",
    "  <category>\n",
    "    <pattern>TELL ME ABOUT *</pattern> <!-- Matches \"TELL ME ABOUT something\" -->\n",
    "    <template><srai>WHAT IS <star/></srai></template> <!-- Redirects to \"WHAT IS\" pattern -->\n",
    "  </category>\n",
    "\n",
    "  <!-- Example redirects: Redirects alternative phrasings to \"GIVE ME AN EXAMPLE OF\" -->\n",
    "  <category>\n",
    "    <pattern>ILLUSTRATE THE CONCEPT OF *</pattern> <!-- Matches \"ILLUSTRATE THE CONCEPT OF something\" -->\n",
    "    <template><srai>GIVE ME AN EXAMPLE OF <star/></srai></template> <!-- Redirects to \"GIVE ME AN EXAMPLE OF\" pattern -->\n",
    "  </category>\n",
    "\n",
    "  <!-- Specific AIML questions: Direct answers for specific AIML-related questions -->\n",
    "  <category>\n",
    "    <pattern>WHAT IS THE WAY THAT AIML ALLOWS VARIABLES IN ITS LONG TERM KNOWLEDGE</pattern> <!-- Matches exact question about AIML variables -->\n",
    "    <template>AIML has wildcards and srai for that purpose.</template> <!-- Direct answer about wildcards and srai -->\n",
    "  </category>\n",
    "\n",
    "  <category>\n",
    "    <pattern>WHAT IS THE WAY AIML SUPPORTS CONTEXT DURING A CONVERSATION</pattern> <!-- Matches exact question about AIML context -->\n",
    "    <template>AIML supports context through the use of the that tag to refer to previous bot answers, and via setting variables such as topic.</template> <!-- Direct answer about context support -->\n",
    "  </category>\n",
    "\n",
    "  <!-- Specific MYBOT questions: Handles \"MYBOT\" variations for rule questions -->\n",
    "  <category>\n",
    "    <pattern>WHAT IS A RULE MYBOT</pattern> <!-- Matches \"WHAT IS A RULE MYBOT\" -->\n",
    "    <template><srai>WHAT IS a rule</srai></template> <!-- Redirects to \"WHAT IS a rule\" -->\n",
    "  </category>\n",
    "\n",
    "  <category>\n",
    "    <pattern>PLEASE MYBOT WHAT IS A RULE</pattern> <!-- Matches \"PLEASE MYBOT WHAT IS A RULE\" -->\n",
    "    <template><srai>WHAT IS a rule</srai></template> <!-- Redirects to \"WHAT IS a rule\" -->\n",
    "  </category>\n",
    "\n",
    "  <category>\n",
    "    <pattern>MYBOT PLEASE GIVE ME A DEFINITION OF A RULE</pattern> <!-- Matches \"MYBOT PLEASE GIVE ME A DEFINITION OF A RULE\" -->\n",
    "    <template><srai>WHAT IS a rule</srai></template> <!-- Redirects to \"WHAT IS a rule\" -->\n",
    "  </category>\n",
    "\n",
    "  <!-- Additional example variations: Redirects alternative example phrasings -->\n",
    "  <category>\n",
    "    <pattern>PROVIDE AN EXAMPLE OF *</pattern> <!-- Matches \"PROVIDE AN EXAMPLE OF something\" -->\n",
    "    <template><srai>GIVE ME AN EXAMPLE OF <star/></srai></template> <!-- Redirects to \"GIVE ME AN EXAMPLE OF\" -->\n",
    "  </category>\n",
    "\n",
    "  <category>\n",
    "    <pattern>PLEASE PROVIDE AN EXAMPLE OF *</pattern> <!-- Matches \"PLEASE PROVIDE AN EXAMPLE OF something\" -->\n",
    "    <template><srai>GIVE ME AN EXAMPLE OF <star/></srai></template> <!-- Redirects to \"GIVE ME AN EXAMPLE OF\" -->\n",
    "  </category>\n",
    "\n",
    "  <category>\n",
    "    <pattern>PLEASE GIVE ME AN EXAMPLE OF *</pattern> <!-- Matches \"PLEASE GIVE ME AN EXAMPLE OF something\" -->\n",
    "    <template><srai>GIVE ME AN EXAMPLE OF <star/></srai></template> <!-- Redirects to \"GIVE ME AN EXAMPLE OF\" -->\n",
    "  </category>\n",
    "\n",
    "  <!-- Catch-all for unhandled patterns: Handles any unmatched input -->\n",
    "  <category>\n",
    "    <pattern>*</pattern> <!-- Matches any input not handled by other patterns -->\n",
    "    <template>\n",
    "      <think><set name=\"input\"><lowercase><star/></lowercase></set></think> <!-- Stores input in 'input' variable in lowercase -->\n",
    "      <condition name=\"input\"> <!-- Checks 'input' value for specific cases -->\n",
    "        <li value=\"provide an example of long-term generic knowledge\"><srai>GIVE ME AN EXAMPLE OF long-term generic knowledge</srai></li> <!-- Redirects specific example request -->\n",
    "        <li value=\"provide an example of long-term domain-specific knowledge\"><srai>GIVE ME AN EXAMPLE OF long-term domain-specific knowledge</srai></li> <!-- Redirects specific example request -->\n",
    "        <li value=\"provide an example of short-term generic knowledge\"><srai>GIVE ME AN EXAMPLE OF short-term generic knowledge</srai></li> <!-- Redirects specific example request -->\n",
    "        <li value=\"provide an example of short-term domain-specific knowledge\"><srai>GIVE ME AN EXAMPLE OF short-term domain-specific knowledge</srai></li> <!-- Redirects specific example request -->\n",
    "        <li value=\"provide an example of a rule\"><srai>GIVE ME AN EXAMPLE OF a rule</srai></li> <!-- Redirects specific example request -->\n",
    "        <li value=\"provide an example of a fact\"><srai>GIVE ME AN EXAMPLE OF a fact</srai></li> <!-- Redirects specific example request -->\n",
    "        <li><srai><star/></srai></li> <!-- Passes unmatched input back through the system -->\n",
    "      </condition>\n",
    "    </template>\n",
    "  </category>\n",
    "</aiml>"
   ]
  },
  {
   "cell_type": "markdown",
   "metadata": {},
   "source": [
    "### 2: Run the next code cell to:\n",
    "- do some imports\n",
    "- create a marker object\n",
    "- load the 45 questions-response pairs"
   ]
  },
  {
   "cell_type": "code",
   "execution_count": 8,
   "metadata": {
    "tags": []
   },
   "outputs": [
    {
     "name": "stdout",
     "output_type": "stream",
     "text": [
      "\n"
     ]
    }
   ],
   "source": [
    "from aimlmarker import AIMLMarker\n",
    "\n",
    "my_marker = AIMLMarker()\n",
    "\n",
    "my_marker.load_questions()"
   ]
  },
  {
   "cell_type": "markdown",
   "metadata": {
    "tags": []
   },
   "source": [
    "### 3:Provided that runs ok, run the next cell to load and test your aiml"
   ]
  },
  {
   "cell_type": "code",
   "execution_count": 9,
   "metadata": {
    "tags": []
   },
   "outputs": [
    {
     "name": "stdout",
     "output_type": "stream",
     "text": [
      "Loading student.aiml..."
     ]
    },
    {
     "ename": "AttributeError",
     "evalue": "module 'time' has no attribute 'clock'",
     "output_type": "error",
     "traceback": [
      "\u001b[1;31m---------------------------------------------------------------------------\u001b[0m",
      "\u001b[1;31mAttributeError\u001b[0m                            Traceback (most recent call last)",
      "Cell \u001b[1;32mIn[9], line 1\u001b[0m\n\u001b[1;32m----> 1\u001b[0m my_marker\u001b[38;5;241m.\u001b[39mtest_aiml()\n\u001b[0;32m      2\u001b[0m \u001b[38;5;28mprint\u001b[39m(\u001b[38;5;124mf\u001b[39m\u001b[38;5;124m\"\u001b[39m\u001b[38;5;124mScore is \u001b[39m\u001b[38;5;132;01m{\u001b[39;00mmy_marker\u001b[38;5;241m.\u001b[39mscore\u001b[38;5;132;01m}\u001b[39;00m\u001b[38;5;124m\"\u001b[39m)\n\u001b[0;32m      3\u001b[0m feedback \u001b[38;5;241m=\u001b[39m my_marker\u001b[38;5;241m.\u001b[39mfeedback_str\u001b[38;5;241m.\u001b[39mreplace(\u001b[38;5;124m\"\u001b[39m\u001b[38;5;124m&lt;\u001b[39m\u001b[38;5;124m\"\u001b[39m, \u001b[38;5;124m\"\u001b[39m\u001b[38;5;124m<\u001b[39m\u001b[38;5;124m\"\u001b[39m)\u001b[38;5;241m.\u001b[39mreplace(\u001b[38;5;124m\"\u001b[39m\u001b[38;5;124m&gt;\u001b[39m\u001b[38;5;124m\"\u001b[39m, \u001b[38;5;124m\"\u001b[39m\u001b[38;5;124m>\u001b[39m\u001b[38;5;124m\"\u001b[39m)\n",
      "File \u001b[1;32mc:\\Users\\pradi\\Desktop\\pradip.ai\\Pradeep\\Artificial_Intelligence_1-main\\Learning_Materials\\week_10\\aimlmarker.py:406\u001b[0m, in \u001b[0;36mAIMLMarker.test_aiml\u001b[1;34m(self, aiml_filename)\u001b[0m\n\u001b[0;32m    404\u001b[0m \u001b[38;5;66;03m# learn aiml from file with reporting\u001b[39;00m\n\u001b[0;32m    405\u001b[0m \u001b[38;5;28;01mwith\u001b[39;00m Capturing() \u001b[38;5;28;01mas\u001b[39;00m output:\n\u001b[1;32m--> 406\u001b[0m     \u001b[38;5;28mself\u001b[39m\u001b[38;5;241m.\u001b[39mcheckBot\u001b[38;5;241m.\u001b[39mlearn(aiml_filename)\n\u001b[0;32m    407\u001b[0m     \u001b[38;5;28mself\u001b[39m\u001b[38;5;241m.\u001b[39mnum_categories \u001b[38;5;241m=\u001b[39m \u001b[38;5;28mself\u001b[39m\u001b[38;5;241m.\u001b[39mcheckBot\u001b[38;5;241m.\u001b[39mnumCategories()\n\u001b[0;32m    408\u001b[0m \u001b[38;5;28;01mif\u001b[39;00m output \u001b[38;5;129;01mor\u001b[39;00m \u001b[38;5;28mself\u001b[39m\u001b[38;5;241m.\u001b[39mnum_categories \u001b[38;5;241m==\u001b[39m \u001b[38;5;241m0\u001b[39m:\n",
      "File \u001b[1;32m~\\AppData\\Roaming\\Python\\Python312\\site-packages\\aiml\\Kernel.py:335\u001b[0m, in \u001b[0;36mKernel.learn\u001b[1;34m(self, filename)\u001b[0m\n\u001b[0;32m    333\u001b[0m \u001b[38;5;28;01mfor\u001b[39;00m f \u001b[38;5;129;01min\u001b[39;00m glob\u001b[38;5;241m.\u001b[39mglob(filename):\n\u001b[0;32m    334\u001b[0m     \u001b[38;5;28;01mif\u001b[39;00m \u001b[38;5;28mself\u001b[39m\u001b[38;5;241m.\u001b[39m_verboseMode: \u001b[38;5;28mprint\u001b[39m( \u001b[38;5;124m\"\u001b[39m\u001b[38;5;124mLoading \u001b[39m\u001b[38;5;132;01m%s\u001b[39;00m\u001b[38;5;124m...\u001b[39m\u001b[38;5;124m\"\u001b[39m \u001b[38;5;241m%\u001b[39m f, end\u001b[38;5;241m=\u001b[39m\u001b[38;5;124m\"\u001b[39m\u001b[38;5;124m\"\u001b[39m)\n\u001b[1;32m--> 335\u001b[0m     start \u001b[38;5;241m=\u001b[39m time\u001b[38;5;241m.\u001b[39mclock()\n\u001b[0;32m    336\u001b[0m     \u001b[38;5;66;03m# Load and parse the AIML file.\u001b[39;00m\n\u001b[0;32m    337\u001b[0m     parser \u001b[38;5;241m=\u001b[39m create_parser()\n",
      "\u001b[1;31mAttributeError\u001b[0m: module 'time' has no attribute 'clock'"
     ]
    }
   ],
   "source": [
    "my_marker.test_aiml()\n",
    "print(f\"Score is {my_marker.score}\")\n",
    "feedback = my_marker.feedback_str.replace(\"&lt;\", \"<\").replace(\"&gt;\", \">\")\n",
    "\n",
    "print(f\"Feedback is:\\n{feedback}\")"
   ]
  },
  {
   "cell_type": "markdown",
   "metadata": {},
   "source": [
    "### 4: Repeat step3 until there are no errors. \n",
    "### Then you can run the next cell to see what your bot responded for each question"
   ]
  },
  {
   "cell_type": "code",
   "execution_count": null,
   "metadata": {
    "tags": []
   },
   "outputs": [
    {
     "name": "stderr",
     "output_type": "stream",
     "text": [
      "'cat' is not recognized as an internal or external command,\n",
      "operable program or batch file.\n"
     ]
    }
   ],
   "source": [
    "!cat \"student-responses.txt\""
   ]
  },
  {
   "cell_type": "code",
   "execution_count": null,
   "metadata": {},
   "outputs": [],
   "source": []
  }
 ],
 "metadata": {
  "kernelspec": {
   "display_name": "base",
   "language": "python",
   "name": "python3"
  },
  "language_info": {
   "codemirror_mode": {
    "name": "ipython",
    "version": 3
   },
   "file_extension": ".py",
   "mimetype": "text/x-python",
   "name": "python",
   "nbconvert_exporter": "python",
   "pygments_lexer": "ipython3",
   "version": "3.12.7"
  }
 },
 "nbformat": 4,
 "nbformat_minor": 4
}
